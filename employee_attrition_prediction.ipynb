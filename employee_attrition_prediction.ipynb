{
 "cells": [
  {
   "cell_type": "markdown",
   "id": "a93a87be",
   "metadata": {},
   "source": [
    "# 🧠 Employee Attrition Prediction\n",
    "This notebook analyzes HR data to predict which employees are at risk of leaving the company."
   ]
  },
  {
   "cell_type": "code",
   "execution_count": null,
   "id": "92c94752",
   "metadata": {},
   "outputs": [],
   "source": [
    "import pandas as pd\n",
    "import matplotlib.pyplot as plt\n",
    "import seaborn as sns\n",
    "from sklearn.model_selection import train_test_split\n",
    "from sklearn.ensemble import RandomForestClassifier\n",
    "from sklearn.metrics import accuracy_score, classification_report, confusion_matrix\n"
   ]
  },
  {
   "cell_type": "code",
   "execution_count": null,
   "id": "02a2b553",
   "metadata": {},
   "outputs": [],
   "source": [
    "# Load dataset\n",
    "df = pd.read_csv(\"WA_Fn-UseC_-HR-Employee-Attrition.csv\")\n",
    "df.head()"
   ]
  },
  {
   "cell_type": "code",
   "execution_count": null,
   "id": "e68e48f9",
   "metadata": {},
   "outputs": [],
   "source": [
    "# Explore data\n",
    "df.info()\n",
    "df.describe()\n",
    "df['Attrition'].value_counts()\n",
    "df.isnull().sum()"
   ]
  },
  {
   "cell_type": "code",
   "execution_count": null,
   "id": "69cc4d1d",
   "metadata": {},
   "outputs": [],
   "source": [
    "# Visualizations\n",
    "sns.countplot(data=df, x='Attrition', hue='JobRole')\n",
    "plt.title('Attrition Distribution by Job Role')\n",
    "plt.show()\n",
    "\n",
    "sns.histplot(data=df, x='Age', hue='Attrition', kde=True)\n",
    "plt.title('Age Distribution by Attrition')\n",
    "plt.show()"
   ]
  },
  {
   "cell_type": "code",
   "execution_count": null,
   "id": "5f9911e7",
   "metadata": {},
   "outputs": [],
   "source": [
    "# Drop unimportant columns\n",
    "df = df.drop(['EmployeeNumber', 'Over18', 'StandardHours', 'EmployeeCount'], axis=1)\n",
    "\n",
    "# Convert categorical columns to numeric\n",
    "df = pd.get_dummies(df, drop_first=True)"
   ]
  },
  {
   "cell_type": "code",
   "execution_count": null,
   "id": "1b9b332b",
   "metadata": {},
   "outputs": [],
   "source": [
    "# Define features and label\n",
    "X = df.drop('Attrition_Yes', axis=1)\n",
    "y = df['Attrition_Yes']"
   ]
  },
  {
   "cell_type": "code",
   "execution_count": null,
   "id": "5c43b2a7",
   "metadata": {},
   "outputs": [],
   "source": [
    "# Split data\n",
    "X_train, X_test, y_train, y_test = train_test_split(X, y, test_size=0.2, random_state=42)"
   ]
  },
  {
   "cell_type": "code",
   "execution_count": null,
   "id": "db8089b3",
   "metadata": {},
   "outputs": [],
   "source": [
    "# Train Random Forest model\n",
    "model = RandomForestClassifier(random_state=42)\n",
    "model.fit(X_train, y_train)"
   ]
  },
  {
   "cell_type": "code",
   "execution_count": null,
   "id": "1b27a697",
   "metadata": {},
   "outputs": [],
   "source": [
    "# Evaluate model\n",
    "y_pred = model.predict(X_test)\n",
    "print('Accuracy:', accuracy_score(y_test, y_pred))\n",
    "print('\\nClassification Report:\\n', classification_report(y_test, y_pred))\n",
    "\n",
    "sns.heatmap(confusion_matrix(y_test, y_pred), annot=True, fmt='d', cmap='Blues')\n",
    "plt.title('Confusion Matrix')\n",
    "plt.xlabel('Predicted')\n",
    "plt.ylabel('Actual')\n",
    "plt.show()"
   ]
  },
  {
   "cell_type": "code",
   "execution_count": null,
   "id": "6e7db1c0",
   "metadata": {},
   "outputs": [],
   "source": [
    "# Predict attrition probability for all employees\n",
    "probabilities = model.predict_proba(X)[:, 1]\n",
    "df['Attrition_Probability'] = probabilities\n",
    "df[['Attrition_Probability']].sort_values(by='Attrition_Probability', ascending=False).head()"
   ]
  },
  {
   "cell_type": "code",
   "execution_count": null,
   "id": "2340e1ab",
   "metadata": {},
   "outputs": [],
   "source": [
    "# Feature importance\n",
    "importances = model.feature_importances_\n",
    "features = X.columns\n",
    "importance_df = pd.DataFrame({'Feature': features, 'Importance': importances})\n",
    "importance_df = importance_df.sort_values(by='Importance', ascending=False)\n",
    "\n",
    "plt.figure(figsize=(10, 6))\n",
    "sns.barplot(data=importance_df.head(10), x='Importance', y='Feature')\n",
    "plt.title('Feature Importance - Factors Influencing Attrition')\n",
    "plt.xlabel('Importance')\n",
    "plt.ylabel('Feature')\n",
    "plt.show()"
   ]
  }
 ],
 "metadata": {},
 "nbformat": 4,
 "nbformat_minor": 5
}
